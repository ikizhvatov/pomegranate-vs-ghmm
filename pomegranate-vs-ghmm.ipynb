{
 "cells": [
  {
   "cell_type": "code",
   "execution_count": 1,
   "metadata": {},
   "outputs": [
    {
     "name": "stdout",
     "output_type": "stream",
     "text": [
      "Python      : 2.7.16 |Anaconda, Inc.| (default, Sep 24 2019, 16:55:38) \n",
      "[GCC 4.2.1 Compatible Clang 4.0.1 (tags/RELEASE_401/final)]\n",
      "Numpy       : 1.16.5\n",
      "Pandas      : 0.24.2\n",
      "Pomegranate : 0.12.0\n",
      "-- Networkx : 2.1\n",
      "GHMM        : 0.9\n",
      "Workdir     : /Users/ilya/Desktop/mhcbinding/pomegranate\n"
     ]
    }
   ],
   "source": [
    "from __future__ import print_function, division\n",
    "\n",
    "import os, sys\n",
    "import numpy as np\n",
    "import pandas as pd\n",
    "import pomegranate as pg\n",
    "import matplotlib.pyplot as plt\n",
    "\n",
    "from sklearn.metrics import roc_auc_score, roc_curve\n",
    "\n",
    "# import ghmm and make it quieter\n",
    "import ghmm\n",
    "import logging\n",
    "log = logging.getLogger(\"GHMM\")\n",
    "log.setLevel(logging.CRITICAL)\n",
    "\n",
    "# log key package versions\n",
    "from networkx import __version__ as ntx_version\n",
    "print(\"Python      :\", sys.version)\n",
    "print(\"Numpy       :\", np.__version__)\n",
    "print(\"Pandas      :\", pd.__version__)\n",
    "print(\"Pomegranate :\", pg.__version__)\n",
    "print(\"-- Networkx :\", ntx_version)\n",
    "print(\"GHMM        : 0.9\") # no simple way to get this version, but it's been 0.9 for a while and no updates\n",
    "print(\"Workdir     :\", os.getcwd())"
   ]
  },
  {
   "cell_type": "markdown",
   "metadata": {},
   "source": [
    "## Load datasets and configure common parameters"
   ]
  },
  {
   "cell_type": "code",
   "execution_count": 2,
   "metadata": {},
   "outputs": [
    {
     "name": "stdout",
     "output_type": "stream",
     "text": [
      "<class 'pandas.core.frame.DataFrame'>\n",
      "RangeIndex: 5186 entries, 0 to 5185\n",
      "Data columns (total 1 columns):\n",
      "peptide    5186 non-null object\n",
      "dtypes: object(1)\n",
      "memory usage: 40.6+ KB\n",
      "<class 'pandas.core.frame.DataFrame'>\n",
      "RangeIndex: 58277 entries, 0 to 58276\n",
      "Data columns (total 2 columns):\n",
      "peptide    58277 non-null object\n",
      "label      58277 non-null int64\n",
      "dtypes: int64(1), object(1)\n",
      "memory usage: 910.6+ KB\n"
     ]
    }
   ],
   "source": [
    "# import datasets\n",
    "training_set = pd.read_csv('training_set.csv.gz')\n",
    "test_set = pd.read_csv('test_set.csv.gz')\n",
    "\n",
    "training_set.info()\n",
    "test_set.info()"
   ]
  },
  {
   "cell_type": "code",
   "execution_count": 3,
   "metadata": {},
   "outputs": [],
   "source": [
    "# common HMM parameters\n",
    "numStates = 25\n",
    "max_iterations = 500    # max number of steps in Baum-Welch\n",
    "stop_threshold = 0.0001 # log probability change cutoff in Baum-Welch"
   ]
  },
  {
   "cell_type": "markdown",
   "metadata": {},
   "source": [
    "## Initialize and train the pomegranate-based model"
   ]
  },
  {
   "cell_type": "code",
   "execution_count": 4,
   "metadata": {},
   "outputs": [
    {
     "name": "stdout",
     "output_type": "stream",
     "text": [
      "{'A': 0.05, 'C': 0.05, 'E': 0.05, 'D': 0.05, 'G': 0.05, 'F': 0.05, 'I': 0.05, 'H': 0.05, 'K': 0.05, 'M': 0.05, 'L': 0.05, 'N': 0.05, 'Q': 0.05, 'P': 0.05, 'S': 0.05, 'R': 0.05, 'T': 0.05, 'W': 0.05, 'V': 0.05, 'Y': 0.05}\n"
     ]
    }
   ],
   "source": [
    "# initialize pomegranate-based HMM\n",
    "\n",
    "# define the distribution on amino acids (initially equiprobable for each state)\n",
    "aminoAcidAlpahbet = [\n",
    "    'A', 'C', 'D', 'E',\n",
    "    'F', 'G', 'H', 'I',\n",
    "    'K', 'L', 'M', 'N',\n",
    "    'P', 'Q', 'R', 'S',\n",
    "    'T', 'V', 'W', 'Y']\n",
    "aminoAcidDistribution = {}\n",
    "for a in aminoAcidAlpahbet:\n",
    "    aminoAcidDistribution[a] = 1  / len(aminoAcidAlpahbet)\n",
    "print(aminoAcidDistribution)\n",
    "\n",
    "# initialize the state randomly\n",
    "tT = np.random.rand(numStates, numStates)\n",
    "tT = (tT.T / tT.sum(1)).T # normalize each row to sum to 1\n",
    "starts = np.ones(numStates) / numStates # equiprobable start states\n",
    "ends = np.zeros(numStates)\n",
    "ends[numStates-1] = 1 # one end state\n",
    "\n",
    "# build the model\n",
    "hmm_pg = pg.HiddenMarkovModel.from_matrix(\n",
    "    tT,\n",
    "    [pg.DiscreteDistribution(aminoAcidDistribution)] * numStates,\n",
    "    starts,\n",
    "    ends\n",
    ")"
   ]
  },
  {
   "cell_type": "code",
   "execution_count": 5,
   "metadata": {},
   "outputs": [],
   "source": [
    "# convert the training set to the pomegranate-acceptable format\n",
    "training_set_pg = [list(str(p)) for p in training_set.peptide]"
   ]
  },
  {
   "cell_type": "code",
   "execution_count": 6,
   "metadata": {},
   "outputs": [
    {
     "name": "stdout",
     "output_type": "stream",
     "text": [
      "CPU times: user 1h 50s, sys: 10min 6s, total: 1h 10min 56s\n",
      "Wall time: 29min 10s\n"
     ]
    }
   ],
   "source": [
    "%%time \n",
    "\n",
    "# train the model using Baum-Welch\n",
    "\n",
    "foo = hmm_pg.fit(\n",
    "    training_set_pg,\n",
    "    algorithm = 'baum-welch',\n",
    "    stop_threshold = stop_threshold,\n",
    "    max_iterations = max_iterations,\n",
    "    verbose = False,\n",
    "    n_jobs = 4\n",
    ")"
   ]
  },
  {
   "cell_type": "markdown",
   "metadata": {},
   "source": [
    "## Initialize and train the GHMM-based model"
   ]
  },
  {
   "cell_type": "code",
   "execution_count": 7,
   "metadata": {},
   "outputs": [],
   "source": [
    "# initialize GHMM-based HMM\n",
    "\n",
    "# define the amino acids alphabet with the stop emission\n",
    "AminoAcidsZ = ghmm.Alphabet(ghmm.AminoAcids.listOfCharacters + ['Z'])\n",
    "\n",
    "# all states equiprobable as initial, Baum-Welch will adjust\n",
    "pi = [1] * numStates\n",
    "\n",
    "# re-use the matrix\n",
    "# transition probabilities: all random except for the last state,\n",
    "# which does not map into anything,\n",
    "# so ghmm will recognize it as the final state\n",
    "tT[numStates - 1] = np.array([0] * numStates)\n",
    "\n",
    "# emission probabilities: last state will be emitting only the dedicated stop state 'Z'\n",
    "# other options not possible:\n",
    "# - if we do not let the last state emit at all (silent state), ghmm.baumWelch\n",
    "#   will not work as it does not support silent states\n",
    "# - if we leave the random emission pattern for the last state, baumWelch complains\n",
    "#   that the state cannot be reached (And so the model is wrong)\n",
    "# so we need the dedicated stop state\n",
    "tE = np.random.rand(numStates, len(AminoAcidsZ))\n",
    "tE = (tE.T / tE.sum(1)).T # normalize each row to sum to 1\n",
    "tE[numStates - 1] = np.zeros(len(AminoAcidsZ))\n",
    "tE[numStates - 1][AminoAcidsZ.internal('Z')] = 1\n",
    "for i in range(0, numStates - 1):\n",
    "    tE[i][AminoAcidsZ.internal('Z')] = 0\n",
    "\n",
    "hmm_ghmm = ghmm.HMMFromMatrices(AminoAcidsZ, ghmm.DiscreteDistribution(AminoAcidsZ), tT, tE, pi)"
   ]
  },
  {
   "cell_type": "code",
   "execution_count": 8,
   "metadata": {},
   "outputs": [],
   "source": [
    "# convert the training set to the ghmm-acceptable format, adding the dedicated termination symbol Z\n",
    "training_set_ghmm = ghmm.SequenceSet(AminoAcidsZ, [list(str(p) + 'Z') for p in training_set.peptide])"
   ]
  },
  {
   "cell_type": "code",
   "execution_count": 9,
   "metadata": {},
   "outputs": [
    {
     "name": "stdout",
     "output_type": "stream",
     "text": [
      "CPU times: user 3min 16s, sys: 432 ms, total: 3min 16s\n",
      "Wall time: 3min 21s\n"
     ]
    }
   ],
   "source": [
    "%%time\n",
    "\n",
    "# train the model using Baum-Welch\n",
    "\n",
    "hmm_ghmm.baumWelch(\n",
    "    training_set_ghmm,\n",
    "    nrSteps=max_iterations,\n",
    "    loglikelihoodCutoff=stop_threshold\n",
    ")"
   ]
  },
  {
   "cell_type": "markdown",
   "metadata": {},
   "source": [
    "## Compare the models on the test set"
   ]
  },
  {
   "cell_type": "code",
   "execution_count": 10,
   "metadata": {},
   "outputs": [
    {
     "name": "stdout",
     "output_type": "stream",
     "text": [
      "CPU times: user 18.2 s, sys: 23.1 ms, total: 18.2 s\n",
      "Wall time: 18.2 s\n"
     ]
    }
   ],
   "source": [
    "%%time\n",
    "\n",
    "# predict on test set with pomegranate\n",
    "\n",
    "predictions_pg = []\n",
    "for p in test_set.peptide:\n",
    "    predictions_pg.append(hmm_pg.log_probability(list(str(p))))\n",
    "# normalize by length\n",
    "predictions_pg = np.array(predictions_pg) / (test_set.peptide.str.len() + 1) # normalize by length (inc. end state)\n",
    "test_set['prediction_pg'] = predictions_pg"
   ]
  },
  {
   "cell_type": "code",
   "execution_count": 11,
   "metadata": {},
   "outputs": [
    {
     "name": "stdout",
     "output_type": "stream",
     "text": [
      "CPU times: user 5.12 s, sys: 46.3 ms, total: 5.16 s\n",
      "Wall time: 5.16 s\n"
     ]
    }
   ],
   "source": [
    "%%time\n",
    "\n",
    "# predict on test set with ghmm\n",
    "\n",
    "test_set_ghmm = ghmm.SequenceSet(AminoAcidsZ, [list(str(p) + 'Z') for p in test_set.peptide])\n",
    "prediction_ghmm = hmm_ghmm.loglikelihoods(test_set_ghmm)\n",
    "prediction_ghmm = np.array(prediction_ghmm) / (test_set.peptide.str.len() + 1) # normalize by length (inc. end state)\n",
    "test_set['prediction_ghmm'] = prediction_ghmm"
   ]
  },
  {
   "cell_type": "code",
   "execution_count": 12,
   "metadata": {},
   "outputs": [
    {
     "data": {
      "image/png": "[encoded data removed]",
      "text/plain": [
       "<Figure size 432x288 with 1 Axes>"
      ]
     },
     "metadata": {
      "needs_background": "light"
     },
     "output_type": "display_data"
    }
   ],
   "source": [
    "# show ROC curves and AUROCs\n",
    "\n",
    "auroc_ghmm = roc_auc_score(test_set.label, test_set.prediction_ghmm)\n",
    "roc_ghmm = roc_curve(test_set.label, test_set.prediction_ghmm)\n",
    "\n",
    "auroc_pg = roc_auc_score(test_set.label, test_set.prediction_pg)\n",
    "roc_pg = roc_curve(test_set.label, test_set.prediction_pg)\n",
    "\n",
    "plt.plot(roc_ghmm[0], roc_ghmm[1], label = 'GHMM: {:.02f}'.format(auroc_ghmm))\n",
    "plt.plot(roc_pg[0], roc_pg[1], label = 'pomegranate: {:.02f}'.format(auroc_pg))\n",
    "plt.legend();"
   ]
  },
  {
   "cell_type": "code",
   "execution_count": 13,
   "metadata": {},
   "outputs": [
    {
     "data": {
      "image/png": "[encoded data removed]",
      "text/plain": [
       "<Figure size 432x288 with 1 Axes>"
      ]
     },
     "metadata": {
      "needs_background": "light"
     },
     "output_type": "display_data"
    }
   ],
   "source": [
    "# show the scatter plot\n",
    "\n",
    "plt.scatter(test_set.prediction_ghmm, test_set.prediction_pg, alpha = 0.5)\n",
    "\n",
    "# x=y line\n",
    "lowlim = min(min(test_set.prediction_ghmm), min(test_set.prediction_ghmm))\n",
    "highlim = max(max(test_set.prediction_ghmm), max(test_set.prediction_ghmm))\n",
    "plt.plot([lowlim,highlim],[lowlim,highlim], 'black')\n",
    "\n",
    "plt.xlabel('GHMM')\n",
    "plt.ylabel('pomegranate');"
   ]
  }
 ],
 "metadata": {
  "kernelspec": {
   "display_name": "Python 2 (mhcbindnew)",
   "language": "python",
   "name": "mhcbindnew"
  },
  "language_info": {
   "codemirror_mode": {
    "name": "ipython",
    "version": 2
   },
   "file_extension": ".py",
   "mimetype": "text/x-python",
   "name": "python",
   "nbconvert_exporter": "python",
   "pygments_lexer": "ipython2",
   "version": "2.7.16"
  }
 },
 "nbformat": 4,
 "nbformat_minor": 4
}
